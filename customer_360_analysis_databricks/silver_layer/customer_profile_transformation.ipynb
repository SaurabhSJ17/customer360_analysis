{
 "cells": [
  {
   "cell_type": "code",
   "execution_count": 0,
   "metadata": {
    "application/vnd.databricks.v1+cell": {
     "cellMetadata": {
      "byteLimit": 2048000,
      "rowLimit": 10000
     },
     "inputWidgets": {},
     "nuid": "322758b3-8f55-4a8b-80c3-cc35d2872867",
     "showTitle": false,
     "tableResultSettingsMap": {},
     "title": ""
    }
   },
   "outputs": [],
   "source": [
    "%run ../utils"
   ]
  },
  {
   "cell_type": "code",
   "execution_count": 0,
   "metadata": {
    "application/vnd.databricks.v1+cell": {
     "cellMetadata": {
      "byteLimit": 2048000,
      "rowLimit": 10000
     },
     "inputWidgets": {},
     "nuid": "34b8c76c-ef32-4cd3-bebd-e243603173e7",
     "showTitle": false,
     "tableResultSettingsMap": {},
     "title": ""
    }
   },
   "outputs": [],
   "source": [
    "dbutils.widgets.text(\"adhoc_date\", \"\")\n"
   ]
  },
  {
   "cell_type": "code",
   "execution_count": 0,
   "metadata": {
    "application/vnd.databricks.v1+cell": {
     "cellMetadata": {
      "byteLimit": 2048000,
      "rowLimit": 10000
     },
     "inputWidgets": {},
     "nuid": "9f7813ef-b838-4a19-93eb-a028d78f1a4c",
     "showTitle": false,
     "tableResultSettingsMap": {},
     "title": ""
    }
   },
   "outputs": [],
   "source": [
    "adhoc_date = dbutils.widgets.get(\"adhoc_date\")\n",
    "# display(adhoc_date)"
   ]
  },
  {
   "cell_type": "code",
   "execution_count": 0,
   "metadata": {
    "application/vnd.databricks.v1+cell": {
     "cellMetadata": {
      "byteLimit": 2048000,
      "rowLimit": 10000
     },
     "inputWidgets": {},
     "nuid": "b5ff9b8f-7126-489f-bbac-a7394cfb1562",
     "showTitle": false,
     "tableResultSettingsMap": {},
     "title": ""
    }
   },
   "outputs": [],
   "source": [
    "date = genrate_yesterdays_date(adhoc_date)\n",
    "print(f\"current job is running for the date: {date}\")\n",
    "\n",
    "# create dataframe on input dataset of customer profile\n",
    "df_profile = spark.read.csv(f\"/mnt/bronze-layer/{date}/customer_profile.csv\", header=True)\n",
    "print(df_profile.show())\n",
    "print(df_profile.printSchema())\n"
   ]
  },
  {
   "cell_type": "code",
   "execution_count": 0,
   "metadata": {
    "application/vnd.databricks.v1+cell": {
     "cellMetadata": {
      "byteLimit": 2048000,
      "rowLimit": 10000
     },
     "inputWidgets": {},
     "nuid": "6c435f96-da27-4452-9098-a1b53dd5ee3f",
     "showTitle": false,
     "tableResultSettingsMap": {},
     "title": ""
    }
   },
   "outputs": [],
   "source": [
    "# Defined window specification to get unique record based on customer_id and signup_date\n",
    "window_spec = Window.partitionBy(\"customer_id\", \"signup_date\").orderBy(\"signup_date\")\n",
    "\n",
    "# Apply row_number function above window specification\n",
    "df_profile = df_profile.withColumn(\"row_no\", row_number().over(window_spec))\n",
    "\n",
    "# Storing bad record from remove duplicate transformation\n",
    "duplicate_bad_df = df_profile.filter(\"row_no != 1\").drop(\"row_no\")\n",
    "\n",
    "df_profile = df_profile.filter(\"row_no = 1\").drop(\"row_no\")\n",
    "\n",
    "# Standardize category and email values.\n",
    "# While validating email, consider email domain ends with “.com” and “.net”.\n",
    "email_bad_df = df_profile.filter((~col(\"email\").endswith(\".com\")) & (~col(\"email\").endswith(\".net\")))\n",
    "\n",
    "df_profile = df_profile.filter((col(\"email\").endswith(\".com\")) | (col(\"email\").endswith(\".net\")))\n",
    "\n",
    "print(df_profile.show())\n"
   ]
  },
  {
   "cell_type": "code",
   "execution_count": 0,
   "metadata": {
    "application/vnd.databricks.v1+cell": {
     "cellMetadata": {
      "byteLimit": 2048000,
      "rowLimit": 10000
     },
     "inputWidgets": {},
     "nuid": "fd75d349-66c0-4617-a6e4-076870fa24dd",
     "showTitle": false,
     "tableResultSettingsMap": {},
     "title": ""
    }
   },
   "outputs": [],
   "source": [
    "\n",
    "df_profile = df_profile.withColumn(\"signup_date\", to_date(\"signup_date\"))\n",
    "df_profile = df_profile.withColumn(\"signup_year\", year(col(\"signup_date\"))) \\\n",
    "    .withColumn(\"signup_month\", month(col(\"signup_date\"))) \\\n",
    "    .withColumn(\"signup_day\", dayofmonth(col(\"signup_date\")))\n",
    "print(df_profile.show())"
   ]
  },
  {
   "cell_type": "code",
   "execution_count": 0,
   "metadata": {
    "application/vnd.databricks.v1+cell": {
     "cellMetadata": {
      "byteLimit": 2048000,
      "rowLimit": 10000
     },
     "inputWidgets": {},
     "nuid": "d01a13a7-d0e8-4290-9488-6a606b1c9e75",
     "showTitle": false,
     "tableResultSettingsMap": {},
     "title": ""
    }
   },
   "outputs": [],
   "source": [
    "\n",
    "# Write data to silver layer\n",
    "df_profile.coalesce(1).write.mode(\"overwrite\").parquet(f\"/mnt/silver-layer/{date}/customer_profile\")\n",
    "\n",
    "# Write bad records to silver layer\n",
    "duplicate_bad_df.union(email_bad_df).write.mode(\"overwrite\").csv(f\"/mnt/silver-layer/bad_record/{date}/customer_profile\", header=True)\n",
    "\n",
    "# List files in the bronze layer for the given date\n",
    "dbutils.fs.ls(f\"/mnt/bronze-layer/{date}/customer_profile.csv\")\n"
   ]
  }
 ],
 "metadata": {
  "application/vnd.databricks.v1+notebook": {
   "computePreferences": null,
   "dashboards": [],
   "environmentMetadata": {
    "base_environment": "",
    "environment_version": "2"
   },
   "inputWidgetPreferences": null,
   "language": "python",
   "notebookMetadata": {
    "pythonIndentUnit": 4
   },
   "notebookName": "customer_profile_transformation",
   "widgets": {
    "adhoc_date": {
     "currentValue": "",
     "nuid": "a3776dad-f496-4024-971f-a806a02b9a61",
     "typedWidgetInfo": {
      "autoCreated": false,
      "defaultValue": "",
      "label": null,
      "name": "adhoc_date",
      "options": {
       "widgetDisplayType": "Text",
       "validationRegex": null
      },
      "parameterDataType": "String"
     },
     "widgetInfo": {
      "widgetType": "text",
      "defaultValue": "",
      "label": null,
      "name": "adhoc_date",
      "options": {
       "widgetType": "text",
       "autoCreated": null,
       "validationRegex": null
      }
     }
    }
   }
  },
  "language_info": {
   "name": "python"
  }
 },
 "nbformat": 4,
 "nbformat_minor": 0
}
