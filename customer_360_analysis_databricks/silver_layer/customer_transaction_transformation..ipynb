{
 "cells": [
  {
   "cell_type": "code",
   "execution_count": 0,
   "metadata": {
    "application/vnd.databricks.v1+cell": {
     "cellMetadata": {
      "byteLimit": 2048000,
      "rowLimit": 10000
     },
     "inputWidgets": {},
     "nuid": "28468b62-47c7-4400-9239-8c702b298a87",
     "showTitle": false,
     "tableResultSettingsMap": {},
     "title": ""
    }
   },
   "outputs": [],
   "source": [
    "%run ../utils"
   ]
  },
  {
   "cell_type": "code",
   "execution_count": 0,
   "metadata": {
    "application/vnd.databricks.v1+cell": {
     "cellMetadata": {
      "byteLimit": 2048000,
      "rowLimit": 10000
     },
     "inputWidgets": {},
     "nuid": "05316fb6-cc41-49d4-9710-44ce49568506",
     "showTitle": false,
     "tableResultSettingsMap": {},
     "title": ""
    }
   },
   "outputs": [],
   "source": [
    "dbutils.widgets.text(\"adhoc_date\", \"\")"
   ]
  },
  {
   "cell_type": "code",
   "execution_count": 0,
   "metadata": {
    "application/vnd.databricks.v1+cell": {
     "cellMetadata": {
      "byteLimit": 2048000,
      "rowLimit": 10000
     },
     "inputWidgets": {},
     "nuid": "a531b061-cc81-40a7-8180-8ab1d374adc2",
     "showTitle": false,
     "tableResultSettingsMap": {},
     "title": ""
    }
   },
   "outputs": [],
   "source": [
    "adhoc_date = dbutils.widgets.get(\"adhoc_date\")\n",
    "# display(adhoc_date)"
   ]
  },
  {
   "cell_type": "code",
   "execution_count": 0,
   "metadata": {
    "application/vnd.databricks.v1+cell": {
     "cellMetadata": {
      "byteLimit": 2048000,
      "rowLimit": 10000
     },
     "inputWidgets": {},
     "nuid": "9f2bfa72-89df-4138-956c-a295c02d669a",
     "showTitle": false,
     "tableResultSettingsMap": {},
     "title": ""
    }
   },
   "outputs": [],
   "source": [
    "date = genrate_yesterdays_date(adhoc_date)\n",
    "print(f\"current job is running for the date: {date}\")\n",
    "\n",
    "# create dataframe on input dataset of customer profile\n",
    "df_transaction = spark.read.csv(f\"/mnt/bronze-layer/{date}/customer_transaction.csv\", header=True)\n",
    "print(df_transaction.show())\n",
    "print(df_transaction.printSchema())"
   ]
  },
  {
   "cell_type": "code",
   "execution_count": 0,
   "metadata": {
    "application/vnd.databricks.v1+cell": {
     "cellMetadata": {
      "byteLimit": 2048000,
      "rowLimit": 10000
     },
     "inputWidgets": {},
     "nuid": "56b38f4b-4d1b-4f4b-8a50-8c0a03ecfb9e",
     "showTitle": false,
     "tableResultSettingsMap": {},
     "title": ""
    }
   },
   "outputs": [],
   "source": [
    "\n",
    "# Defined window specification to get unique record based on customer_id, transaction_id and transaction_date\n",
    "window_spec = Window.partitionBy(\"customer_id\", \"transaction_id\", \"transaction_date\") \\\n",
    "        .orderBy(\"transaction_id\")\n",
    "\n",
    "# apply row_number function above window specification\n",
    "df_transaction = df_transaction.withColumn(\"row_no\", row_number().over(window_spec))\n",
    "# print(df_transaction.show())\n",
    "\n",
    "# bad_record\n",
    "duplicate_bad_df = df_transaction.filter(\"row_no != 1\").drop(\"row_no\")\n",
    "\n",
    "# select unique record based on row_number and drop column\n",
    "df_transaction = df_transaction.filter(\"row_no = 1\").drop(\"row_no\")\n",
    "print(df_transaction.show())\n",
    "\n",
    "\n"
   ]
  },
  {
   "cell_type": "code",
   "execution_count": 0,
   "metadata": {
    "application/vnd.databricks.v1+cell": {
     "cellMetadata": {
      "byteLimit": 2048000,
      "rowLimit": 10000
     },
     "inputWidgets": {},
     "nuid": "c8854c06-44c1-4138-bc72-0471fe488a9f",
     "showTitle": false,
     "tableResultSettingsMap": {},
     "title": ""
    }
   },
   "outputs": [],
   "source": [
    "\n",
    "regex_expression = \"^[a-zA-Z0-9 ]+$\"\n",
    "\n",
    "#bad_record\n",
    "special_char_bad_df = df_transaction.filter(~col(\"category\").rlike(regex_expression))\n",
    "\n",
    "\n",
    "df_transaction = df_transaction.filter(col(\"category\").rlike(regex_expression))\n",
    "\n",
    "df_transaction.show()\n",
    "\n",
    "\n"
   ]
  },
  {
   "cell_type": "code",
   "execution_count": 0,
   "metadata": {
    "application/vnd.databricks.v1+cell": {
     "cellMetadata": {
      "byteLimit": 2048000,
      "rowLimit": 10000
     },
     "inputWidgets": {},
     "nuid": "50a6d4cd-0e71-4ddc-b42c-7ccdc0da9f3a",
     "showTitle": false,
     "tableResultSettingsMap": {},
     "title": ""
    }
   },
   "outputs": [],
   "source": [
    "\n",
    "\n",
    "\n",
    "# is_large_transaction for transactions > $1000.\n",
    "df_transaction = df_transaction.withColumn(\"is_large_transaction\",when(col(\"amount\").cast(DecimalType(18, 2)) > 1000, True).otherwise(False))\n",
    "# df_transaction.show()\n",
    "\n",
    "# year, month, day for easier aggregation.\n",
    "df_transaction = df_transaction.withColumn(\"transaction_year\", year(col(\"transaction_date\").cast(TimestampType()))) \\\n",
    "        .withColumn(\"transaction_month\", month(col(\"transaction_date\").cast(TimestampType()))) \\\n",
    "        .withColumn(\"transaction_day\", dayofmonth(col(\"transaction_date\").cast(TimestampType())))\n",
    "\n",
    "df_transaction.show()\n",
    "\n",
    "    "
   ]
  },
  {
   "cell_type": "code",
   "execution_count": 0,
   "metadata": {
    "application/vnd.databricks.v1+cell": {
     "cellMetadata": {
      "byteLimit": 2048000,
      "rowLimit": 10000
     },
     "inputWidgets": {},
     "nuid": "6a0e138e-8cae-4833-a2e8-2283122fd021",
     "showTitle": false,
     "tableResultSettingsMap": {},
     "title": ""
    }
   },
   "outputs": [],
   "source": [
    "# write data to silver layer\n",
    "df_transaction.coalesce(1).write.mode(\"overwrite\").parquet(f\"/mnt/silver-layer/{date}/customer_transaction\")\n",
    "\n",
    "#witre bad record with uni of all bad record\n",
    "duplicate_bad_df.union(special_char_bad_df).write.mode(\"overwrite\").csv(fr\"mnt/silver-layer/bad_record/{date}/customer_transaction\", header = True)"
   ]
  }
 ],
 "metadata": {
  "application/vnd.databricks.v1+notebook": {
   "computePreferences": null,
   "dashboards": [],
   "environmentMetadata": {
    "base_environment": "",
    "environment_version": "2"
   },
   "inputWidgetPreferences": null,
   "language": "python",
   "notebookMetadata": {
    "pythonIndentUnit": 4
   },
   "notebookName": "customer_transaction_transformation.",
   "widgets": {
    "adhoc_date": {
     "currentValue": "",
     "nuid": "f440137c-23e0-4adc-bdf3-2311f7535644",
     "typedWidgetInfo": {
      "autoCreated": false,
      "defaultValue": "",
      "label": null,
      "name": "adhoc_date",
      "options": {
       "widgetDisplayType": "Text",
       "validationRegex": null
      },
      "parameterDataType": "String"
     },
     "widgetInfo": {
      "widgetType": "text",
      "defaultValue": "",
      "label": null,
      "name": "adhoc_date",
      "options": {
       "widgetType": "text",
       "autoCreated": null,
       "validationRegex": null
      }
     }
    }
   }
  },
  "language_info": {
   "name": "python"
  }
 },
 "nbformat": 4,
 "nbformat_minor": 0
}
