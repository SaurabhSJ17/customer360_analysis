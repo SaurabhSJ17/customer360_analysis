{
 "cells": [
  {
   "cell_type": "code",
   "execution_count": 0,
   "metadata": {
    "application/vnd.databricks.v1+cell": {
     "cellMetadata": {
      "byteLimit": 2048000,
      "rowLimit": 10000
     },
     "inputWidgets": {},
     "nuid": "d90a1200-f781-4367-b3e1-813af06c7bb6",
     "showTitle": false,
     "tableResultSettingsMap": {},
     "title": ""
    }
   },
   "outputs": [],
   "source": [
    "%run ../utils"
   ]
  },
  {
   "cell_type": "code",
   "execution_count": 0,
   "metadata": {
    "application/vnd.databricks.v1+cell": {
     "cellMetadata": {
      "byteLimit": 2048000,
      "rowLimit": 10000
     },
     "inputWidgets": {},
     "nuid": "c74d19a2-ff11-457e-91d4-a369b7349e42",
     "showTitle": false,
     "tableResultSettingsMap": {},
     "title": ""
    }
   },
   "outputs": [],
   "source": [
    "dbutils.widgets.text(\"adhoc_date\", \"\")"
   ]
  },
  {
   "cell_type": "code",
   "execution_count": 0,
   "metadata": {
    "application/vnd.databricks.v1+cell": {
     "cellMetadata": {
      "byteLimit": 2048000,
      "rowLimit": 10000
     },
     "inputWidgets": {},
     "nuid": "82999792-41e0-4b63-8e77-381ba537c591",
     "showTitle": false,
     "tableResultSettingsMap": {},
     "title": ""
    }
   },
   "outputs": [],
   "source": [
    "adhoc_date = dbutils.widgets.get(\"adhoc_date\")\n",
    "# display(adhoc_date)"
   ]
  },
  {
   "cell_type": "code",
   "execution_count": 0,
   "metadata": {
    "application/vnd.databricks.v1+cell": {
     "cellMetadata": {
      "byteLimit": 2048000,
      "rowLimit": 10000
     },
     "inputWidgets": {},
     "nuid": "adfb7b0e-031a-4ea9-848b-67bfb7c1718e",
     "showTitle": false,
     "tableResultSettingsMap": {},
     "title": ""
    }
   },
   "outputs": [],
   "source": [
    "date = genrate_yesterdays_date(adhoc_date)\n",
    "print(f\"current job is running for the date: {date}\")\n",
    "\n",
    "# create dataframe on input dataset of customer transaction\n",
    "trans_df = spark.read.parquet(f\"/mnt/silver-layer/{date}/customer_transaction\")\n",
    "\n",
    "# create dataframe on input dataset of customer profile\n",
    "customer_df = spark.read.parquet(f\"/mnt/silver-layer/{date}/customer_profile\")\n",
    "\n",
    "print(trans_df.show())\n",
    "print(customer_df.show())"
   ]
  },
  {
   "cell_type": "code",
   "execution_count": 0,
   "metadata": {
    "application/vnd.databricks.v1+cell": {
     "cellMetadata": {
      "byteLimit": 2048000,
      "rowLimit": 10000
     },
     "inputWidgets": {},
     "nuid": "1a4f61f6-ba4d-4024-957c-01324f9b6440",
     "showTitle": false,
     "tableResultSettingsMap": {},
     "title": ""
    }
   },
   "outputs": [],
   "source": [
    "join_df = trans_df.join(customer_df,\"customer_id\",\"left\")\n",
    "# print((join_df.show()))\n",
    "\n",
    "window_spec =Window.partitionBy(\"customer_id\")\n",
    "\n",
    "df = join_df.select(\"customer_id\",\"first_name\",\"last_name\",\"amount\").withColumn(\"sum_amount\", sum(\"amount\").over(window_spec)).drop(\"amount\").distinct()\n",
    "print(df.show())\n",
    "\n",
    "df.coalesce(1).write.mode(\"overwrite\").parquet(f\"/mnt/gold-layer/{date}/Total_Spending_Per_Customer\")\n",
    "\n",
    "\n"
   ]
  },
  {
   "cell_type": "code",
   "execution_count": 0,
   "metadata": {
    "application/vnd.databricks.v1+cell": {
     "cellMetadata": {
      "byteLimit": 2048000,
      "rowLimit": 10000
     },
     "inputWidgets": {},
     "nuid": "53968f32-d905-4814-9545-3f075a7cec17",
     "showTitle": false,
     "tableResultSettingsMap": {},
     "title": ""
    }
   },
   "outputs": [],
   "source": [
    "category_spend_df = join_df.select(\"category\",\"amount\").groupby(\"category\").agg(sum(\"amount\").cast(DecimalType(18,2)).alias(\"total_spend\"))\n",
    "\n",
    "category_spend_df = category_spend_df.orderBy(col(\"total_spend\").desc())\n",
    "print(category_spend_df.show())\n",
    "\n",
    "category_spend_df.coalesce(1).write.mode(\"overwrite\").parquet(f\"/mnt/gold-layer/{date}/Top_Categories_by_Spending\")"
   ]
  }
 ],
 "metadata": {
  "application/vnd.databricks.v1+notebook": {
   "computePreferences": null,
   "dashboards": [],
   "environmentMetadata": {
    "base_environment": "",
    "environment_version": "2"
   },
   "inputWidgetPreferences": null,
   "language": "python",
   "notebookMetadata": {
    "pythonIndentUnit": 4
   },
   "notebookName": "gold_layer_transformation",
   "widgets": {
    "adhoc_date": {
     "currentValue": "",
     "nuid": "6a742bb4-03ae-4bc2-a2c5-e14aa6aa97aa",
     "typedWidgetInfo": {
      "autoCreated": false,
      "defaultValue": "",
      "label": null,
      "name": "adhoc_date",
      "options": {
       "widgetDisplayType": "Text",
       "validationRegex": null
      },
      "parameterDataType": "String"
     },
     "widgetInfo": {
      "widgetType": "text",
      "defaultValue": "",
      "label": null,
      "name": "adhoc_date",
      "options": {
       "widgetType": "text",
       "autoCreated": false,
       "validationRegex": null
      }
     }
    }
   }
  },
  "language_info": {
   "name": "python"
  }
 },
 "nbformat": 4,
 "nbformat_minor": 0
}
