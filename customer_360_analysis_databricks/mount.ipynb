{
 "cells": [
  {
   "cell_type": "code",
   "execution_count": 0,
   "metadata": {
    "application/vnd.databricks.v1+cell": {
     "cellMetadata": {
      "byteLimit": 2048000,
      "rowLimit": 10000
     },
     "inputWidgets": {},
     "nuid": "4510e59e-4c8c-4348-92c9-e86632e6d107",
     "showTitle": false,
     "tableResultSettingsMap": {},
     "title": ""
    }
   },
   "outputs": [],
   "source": [
    "configs = {\n",
    "    \"fs.azure.account.auth.type\": \"SAS\",\n",
    "    \"fs.azure.sas.token.provider.type\": \"org.apache.hadoop.fs.azurebfs.sas.FixedSASTokenProvider\",\n",
    "    \"fs.azure.sas.fixed.token\": \"sp=racwdlmeop&st=2025-06-01T20:15:29Z&se=2025-06-02T04:15:29Z&sv=2024-11-04&sr=c&sig=cppke0FqXbG9wMJmLSd3xFkPXCSUt%2BMwkyA5ASLkkNQ%3D\"\n",
    "}\n",
    "\n",
    "# Mount the ADLS container to Databricks file system (DBFS)\n",
    "dbutils.fs.mount(\n",
    "    source=\"abfss://bronze-layer@customer360anlysisls.dfs.core.windows.net/\",\n",
    "    mount_point=\"/mnt/bronze-layer\",\n",
    "    extra_configs=configs\n",
    ")"
   ]
  },
  {
   "cell_type": "code",
   "execution_count": 0,
   "metadata": {
    "application/vnd.databricks.v1+cell": {
     "cellMetadata": {
      "byteLimit": 2048000,
      "rowLimit": 10000
     },
     "inputWidgets": {},
     "nuid": "bec18f30-5448-4941-aed5-fa6555978543",
     "showTitle": false,
     "tableResultSettingsMap": {},
     "title": ""
    }
   },
   "outputs": [],
   "source": [
    "configs = {\n",
    "    \"fs.azure.account.auth.type\": \"SAS\",\n",
    "    \"fs.azure.sas.token.provider.type\": \"org.apache.hadoop.fs.azurebfs.sas.FixedSASTokenProvider\",\n",
    "    \"fs.azure.sas.fixed.token\": \"sp=racwdlmeop&st=2025-06-01T20:18:51Z&se=2025-06-02T04:18:51Z&sv=2024-11-04&sr=c&sig=GGnd4RP0xBy1df55oZia5BxE9DgWh6tJK3UEGtzC62M%3D\"\n",
    "}\n",
    "\n",
    "# Mount the ADLS container to Databricks file system (DBFS)\n",
    "dbutils.fs.mount(\n",
    "    source=\"abfss://silver-layer@customer360anlysisls.dfs.core.windows.net/\",\n",
    "    mount_point=\"/mnt/silver-layer\",\n",
    "    extra_configs=configs\n",
    ")"
   ]
  },
  {
   "cell_type": "code",
   "execution_count": 0,
   "metadata": {
    "application/vnd.databricks.v1+cell": {
     "cellMetadata": {
      "byteLimit": 2048000,
      "rowLimit": 10000
     },
     "inputWidgets": {},
     "nuid": "60b3ce1e-73ec-49cc-abce-d6820c00777d",
     "showTitle": false,
     "tableResultSettingsMap": {},
     "title": ""
    }
   },
   "outputs": [],
   "source": [
    "configs = {\n",
    "    \"fs.azure.account.auth.type\": \"SAS\",\n",
    "    \"fs.azure.sas.token.provider.type\": \"org.apache.hadoop.fs.azurebfs.sas.FixedSASTokenProvider\",\n",
    "    \"fs.azure.sas.fixed.token\": \"sp=racwdlmeop&st=2025-06-01T20:17:15Z&se=2025-06-02T04:17:15Z&sv=2024-11-04&sr=c&sig=aSjgYbAO0NVDPYDQjoxeaUZzViTVa%2FzotTF4atMGUcI%3D\"\n",
    "}\n",
    "\n",
    "# Mount the ADLS container to Databricks file system (DBFS)\n",
    "dbutils.fs.mount(\n",
    "    source=\"abfss://gold-layer@customer360anlysisls.dfs.core.windows.net/\",\n",
    "    mount_point=\"/mnt/gold-layer\",\n",
    "    extra_configs=configs\n",
    ")"
   ]
  }
 ],
 "metadata": {
  "application/vnd.databricks.v1+notebook": {
   "computePreferences": null,
   "dashboards": [],
   "environmentMetadata": {
    "base_environment": "",
    "environment_version": "2"
   },
   "inputWidgetPreferences": null,
   "language": "python",
   "notebookMetadata": {
    "pythonIndentUnit": 4
   },
   "notebookName": "mount",
   "widgets": {}
  },
  "language_info": {
   "name": "python"
  }
 },
 "nbformat": 4,
 "nbformat_minor": 0
}
